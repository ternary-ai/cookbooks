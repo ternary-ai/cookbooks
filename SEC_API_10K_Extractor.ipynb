{
 "cells": [
  {
   "cell_type": "markdown",
   "id": "02cad63e",
   "metadata": {},
   "source": [
    "# SEC API 10K Extractor"
   ]
  },
  {
   "cell_type": "markdown",
   "id": "3f81b532",
   "metadata": {},
   "source": [
    "### Here are three links that explain the task in more detail"
   ]
  },
  {
   "cell_type": "code",
   "execution_count": null,
   "id": "6df3dc62",
   "metadata": {},
   "outputs": [],
   "source": [
    "#https://www.sec.gov/files/reada10k.pdf\n",
    "#https://sec-api.io/docs/sec-filings-item-extraction-api#request-parameters\n",
    "#https://sec-api.io/resources/extract-textual-data-from-edgar-10-k-filings-using-python"
   ]
  },
  {
   "cell_type": "markdown",
   "id": "5f5386b3",
   "metadata": {},
   "source": [
    "### If you have sec_api not installed, you need to to that here"
   ]
  },
  {
   "cell_type": "code",
   "execution_count": null,
   "id": "9dd0729b",
   "metadata": {},
   "outputs": [],
   "source": [
    "#%pip install sec_api"
   ]
  },
  {
   "cell_type": "code",
   "execution_count": 1,
   "id": "8c34d29d",
   "metadata": {},
   "outputs": [],
   "source": [
    "from sec_api import ExtractorApi, QueryApi\n",
    "import requests\n",
    "import os,json, time, re\n",
    "import shutil\n",
    "from datetime import datetime\n",
    "import pandas as pd"
   ]
  },
  {
   "cell_type": "markdown",
   "id": "fa719985",
   "metadata": {},
   "source": [
    "### Set the parameteres for the script. For which ticker and filing type you want to search for filings"
   ]
  },
  {
   "cell_type": "code",
   "execution_count": 2,
   "id": "15c3ba1a",
   "metadata": {},
   "outputs": [],
   "source": [
    "ticker = \"APLD\" \n",
    "filing_type = \"10-K\"\n",
    "start_date = \"2024-06-01\" # input(\"Enter start date (YYYY-MM-DD): \")\n",
    "end_date = \"2024-09-30\"  #input(\"Enter end date (YYYY-MM-DD): \")\n",
    "  \n",
    "api_key='<YOUR API KEY>'\n"
   ]
  },
  {
   "cell_type": "code",
   "execution_count": 3,
   "id": "3c89fb1d",
   "metadata": {
    "code_folding": []
   },
   "outputs": [],
   "source": [
    "queryApi = QueryApi(api_key=api_key) #Create a QueryAPi object to connect and authenticate with the SEC\n",
    "\n",
    "query = {\n",
    "  \"query\": f\"ticker:{ticker} AND filedAt:[{start_date} TO {end_date}] AND formType:\\\"{filing_type}\\\"\",\n",
    "  \"from\": \"0\",\n",
    "  \"size\": \"10\",\n",
    "  \"sort\": [{ \"filedAt\": { \"order\": \"desc\" } }]\n",
    "} # Defines your query and fills it with you parameters\n",
    "\n",
    "response = queryApi.get_filings(query) #requests all documents\n",
    "\n"
   ]
  },
  {
   "cell_type": "markdown",
   "id": "3647cab0",
   "metadata": {},
   "source": [
    "### Extract is a function that takes a filing URL as input and extracts and maps all sections into a python dict"
   ]
  },
  {
   "cell_type": "code",
   "execution_count": 15,
   "id": "4c4059fb",
   "metadata": {
    "code_folding": [
     0
    ]
   },
   "outputs": [],
   "source": [
    "def extract(filing_url):\n",
    "    \n",
    "    extractorApi = ExtractorApi(api_key)\n",
    "\n",
    "    #filing_url=\"https://www.sec.gov/Archives/edgar/data/1144879/000114487924000216/apld-20240531.htm\"\n",
    "    \n",
    "    section_1 = extractorApi.get_section(filing_url, '1', 'text')\n",
    "    section_1a = extractorApi.get_section(filing_url, \"1A\", \"text\")\n",
    "    section_1b = extractorApi.get_section(filing_url, \"1B\", \"text\")\n",
    "    section_1c = extractorApi.get_section(filing_url, \"1C\", \"text\")\n",
    "    section_2 = extractorApi.get_section(filing_url, \"2\", \"text\")\n",
    "    section_3 = extractorApi.get_section(filing_url, \"3\", \"text\")\n",
    "    section_4 = extractorApi.get_section(filing_url, \"4\", \"text\")\n",
    "    section_5 = extractorApi.get_section(filing_url, \"5\", \"text\")\n",
    "    section_6 = extractorApi.get_section(filing_url, \"6\", \"text\")\n",
    "    section_7 = extractorApi.get_section(filing_url, \"7\", \"text\")\n",
    "    section_7a = extractorApi.get_section(filing_url, \"7A\", \"text\")\n",
    "    section_8 = extractorApi.get_section(filing_url, \"8\", \"text\")\n",
    "    section_9 = extractorApi.get_section(filing_url, \"9\", \"text\")\n",
    "    section_9a = extractorApi.get_section(filing_url, \"9A\", \"text\")\n",
    "    section_9b = extractorApi.get_section(filing_url, \"9A\", \"text\")\n",
    "    section_10 = extractorApi.get_section(filing_url, \"10\", \"text\")\n",
    "    section_11 = extractorApi.get_section(filing_url, \"11\", \"text\")\n",
    "    section_12 = extractorApi.get_section(filing_url, \"12\", \"text\")\n",
    "    section_13 = extractorApi.get_section(filing_url, \"13\", \"text\")\n",
    "    section_14 = extractorApi.get_section(filing_url, \"14\", \"text\")\n",
    "    section_15 = extractorApi.get_section(filing_url, \"15\", \"text\")\n",
    "    \n",
    "    \n",
    "    return {\n",
    "        \n",
    "        \"section_1\": {\"Business\":section_1},\n",
    "        \"section_1a\":{\"Risk Factors\": section_1a},\n",
    "        \"section_1b\":{\"Unresolved Staff Comments\": section_1b},\n",
    "        \"section_1c\":{\"Cybersecurity\":section_1c},\n",
    "        \"section_2\": {\"Properties\":section_2},\n",
    "        \"section_3\": {\"Legal Proceedings\":section_3},\n",
    "        \"section_4\": {\"For Future USe\":section_4},\n",
    "        \"section_5\": {\"Market for Registrant’s Common Equity, Related Stockholder Matters and Issuer Purchases of Equity Securities\":section_5},\n",
    "        \"section_6\": {\"Selected Financial Data\":section_6},\n",
    "        \"section_7\": {\"Management’s Discussion and Analysis of Financial Condition and Results of Operations\":section_7},\n",
    "        \"section_7a\":{\"“Quantitative and Qualitative Disclosures about Market Risk\":section_7a},\n",
    "        \"section_8\": {\"Financial Statements and Supplementary Data\":section_8},\n",
    "        \"section_9\": {\"Changes in and Disagreements with Accountants on Accounting and Financial Disclosure\":section_9},\n",
    "        \"section_9a\":{\"Controls and Procedures\": section_9a},\n",
    "        \"section_9b\":{\"Other Information\": section_9b},\n",
    "        \"section_10\":{\"Directors, Executive Officers and Corporate Governance\": section_10},\n",
    "        \"section_11\":{\"Executive Compensation\": section_11},\n",
    "        \"section_12\":{\"Security Ownership of Certain Beneficial Owners and Management and Related Stockholder Matters\": section_12},\n",
    "        \"section_13\":{\"Certain Relationships and Related Transactions, and Director Independence\":section_13},\n",
    "        \"section_14\":{\"Principal Accountant Fees and Services\": section_14},\n",
    "        \"section_15\":{\"Exhibits, Financial Statement Schedules\": section_15},\n",
    "        \n",
    "            \n",
    "    }"
   ]
  },
  {
   "cell_type": "markdown",
   "id": "ef28ac98",
   "metadata": {},
   "source": [
    "### Once the filing information has been retrieved, you need to extract the relevant urls for extraction"
   ]
  },
  {
   "cell_type": "code",
   "execution_count": null,
   "id": "bb56efed",
   "metadata": {},
   "outputs": [],
   "source": [
    "x = pd.DataFrame.from_records(response['filings'])\n",
    "urls_list = list(map(lambda x: x[\"linkToFilingDetails\"], response[\"filings\"]))"
   ]
  },
  {
   "cell_type": "code",
   "execution_count": 20,
   "id": "2911a66c",
   "metadata": {},
   "outputs": [
    {
     "name": "stdout",
     "output_type": "stream",
     "text": [
      " If found these URLs : ['https://www.sec.gov/Archives/edgar/data/1144879/000114487924000216/apld-20240531.htm', 'https://www.sec.gov/Archives/edgar/data/1144879/000114487924000213/apld-form10xkx12bx25ntdraf.htm']\n"
     ]
    }
   ],
   "source": [
    "print(f\" If found these URLs : {urls_list}\")"
   ]
  },
  {
   "cell_type": "markdown",
   "id": "01609318",
   "metadata": {},
   "source": [
    "### Now use the first URL (for example) to extract the different sections"
   ]
  },
  {
   "cell_type": "code",
   "execution_count": 16,
   "id": "81564960",
   "metadata": {},
   "outputs": [],
   "source": [
    "filing_dict=extract(urls_list[0])"
   ]
  },
  {
   "cell_type": "markdown",
   "id": "ef9892a2",
   "metadata": {},
   "source": [
    "### You can print out a sample section to verify the data"
   ]
  },
  {
   "cell_type": "code",
   "execution_count": 17,
   "id": "3c8d3e0a",
   "metadata": {},
   "outputs": [
    {
     "name": "stdout",
     "output_type": "stream",
     "text": [
      "{'Legal Proceedings': \" Item 3. Legal Proceedings \\n\\nFrom time to time, we may become involved in legal proceedings. \\n\\nThe Company, Wes Cummins, the Company's Chief Executive Officer, and David Rench, the Company's Chief Financial Officer, have been named as defendants in a putative securities class action lawsuit in the matter styled, McConnell v. Applied Digital Corporation, et al., Case No. 3:23-cv-1805, filed in August 2023 in the U.S. District Court for the Northern District of Texas (the &#8220;Securities Lawsuit&#8221;). Specifically, the complaint asserts claims pursuant to Section 10(b) and 20(a) of the Securities Exchange Act of 1934, as amended, based on allegedly false or misleading statements regarding the company&#8217;s business, operations, and compliance policies, including claims that the Company overstated the profitability of its data center hosting business and its ability to successfully transition into a low-cost cloud services provider and that the Company&#8217;s board of directors was not &#8220;independent&#8221; within the meaning of NASDAQ listing rules. On May 22, 2024, the court appointed Lead plaintiff and approved lead counsel, and on July 22, 2024, Lead Plaintiff filed an amended complaint which asserts the same claims based on similar allegations in the original complaint. The Company&#8217;s response to the Complaint is due on September 20, 2024. \\n\\nOn November 15, 2023, a putative derivative action was filed in the matter styled, Weich v. Cummins, et al., Case No. A-23-881629-C in the District Court of Clark County, Nevada. The Weich complaint names as defendants certain members of the Company&#8217;s Board Wes Cummins, the Company&#8217;s Chief Executive Officer and purports to name David Rench, the Company&#8217;s Chief Financial Officer, as a defendant. The complaint asserts claims for breach of fiduciary duties, corporate waste and unjust enrichment based upon allegations that the defendants caused or allowed the Company to make materially false and misleading statements regarding the Company&#8217;s business, operations and compliance policies. Specifically, the complaint alleged that the Company overstated the profitability of the Data Center Hosting Business and its ability to successfully transition into a low-cost cloud services provider and that the Board was not &#8220;independent&#8221; within the meaning of Nasdaq listing rules. On February 27, 2024, the derivative plaintiff filed an amended complaint asserting the same claims as the original complaint. On June 5, 2024, the Court entered an order granting the defendants&#8217; motion to dismiss without prejudice and dismissing all claims against all defendants, including the Company. As of the date of this filing, the plaintiff has not sought leave to file an amended complaint or filed an appeal of the order dismissing the action. \\n\\nThe Company is unable to estimate a range of loss, if any, that could result were there to be an adverse final decision in these actions. If an unfavorable action were to occur, it is possible that the impact could be material to the Company&#8217;s results of operations in the period(s) in which any such outcome becomes probable and estimable. \\n\\nThere are no other pending lawsuits that could reasonably be expected to have a material adverse effect on the results of the Company&#8217;s consolidated operations. \\n\\n\"}\n"
     ]
    }
   ],
   "source": [
    "print(filing_dict['section_3'])\n"
   ]
  },
  {
   "cell_type": "markdown",
   "id": "146f40f4",
   "metadata": {},
   "source": [
    "### Simple store the dict as a JSON file. We can also use a Vector DB. But let's do that at a later stage"
   ]
  },
  {
   "cell_type": "code",
   "execution_count": 18,
   "id": "145fad1d",
   "metadata": {},
   "outputs": [],
   "source": [
    "json_file=f\"{ticker}-{filing_type}.json\"\n",
    "\n",
    "with open(json_file, 'w') as file:\n",
    "    json.dump(filing_dict, file, indent=4)\n",
    "\n"
   ]
  },
  {
   "cell_type": "markdown",
   "id": "5f81431a",
   "metadata": {},
   "source": [
    "### That's it."
   ]
  },
  {
   "cell_type": "code",
   "execution_count": null,
   "id": "61cf90ef",
   "metadata": {},
   "outputs": [],
   "source": []
  }
 ],
 "metadata": {
  "kernelspec": {
   "display_name": "venv",
   "language": "python",
   "name": "venv"
  },
  "language_info": {
   "codemirror_mode": {
    "name": "ipython",
    "version": 3
   },
   "file_extension": ".py",
   "mimetype": "text/x-python",
   "name": "python",
   "nbconvert_exporter": "python",
   "pygments_lexer": "ipython3",
   "version": "3.12.3"
  }
 },
 "nbformat": 4,
 "nbformat_minor": 5
}
